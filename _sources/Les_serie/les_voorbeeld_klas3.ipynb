{
 "cells": [
  {
   "cell_type": "markdown",
   "metadata": {},
   "source": [
    "# Les presentatie voorbeeld klas 3"
   ]
  },
  {
   "cell_type": "markdown",
   "metadata": {},
   "source": [
    "Hieronder is een presentatie van een interactieve les omgeving voor klas 3. Het gaat over breuken en zijn veel regels.  "
   ]
  },
  {
   "cell_type": "markdown",
   "metadata": {},
   "source": [
    "```{raw} html\n",
    "<iframe src=\"path/to/your-presentation.html\" width=\"100%\" height=\"600px\"></iframe>\n"
   ]
  }
 ],
 "metadata": {
  "language_info": {
   "name": "python"
  }
 },
 "nbformat": 4,
 "nbformat_minor": 2
}
