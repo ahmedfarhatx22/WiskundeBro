{
 "cells": [
  {
   "cell_type": "markdown",
   "metadata": {},
   "source": [
    "# Welkom in klas 3 VWO lieve leerling!"
   ]
  },
  {
   "cell_type": "markdown",
   "metadata": {},
   "source": [
    "Hieronder vind je het oefenmateriaal van de verschillende hoofdstukken voor alle onderwerpen in jouw klas. Succes met leren – vergeet niet: het behalen van een toets begint met jouw keuze!"
   ]
  },
  {
   "cell_type": "markdown",
   "metadata": {},
   "source": [
    "---\n",
    "```{dropdown} VWO klas 3 eerste boek\n",
    "\n",
    "\n",
    "| Hoofdstuk        | Onderwerp  |Opmerkingen|\n",
    "|:------|:---------------------------|:---------------------------|\n",
    "| Hoofdstuk1      |  onderwerp 1      |opmerkingen1              |\n",
    "| Hoofdstuk2      |  onderwerp 2      |opmerkingen2              |\n",
    "| Hoofdstuk3      |  onderwerp 3      |opmerkingen3              |\n",
    "| Hoofdstuk4      |  onderwerp 4      |opmerkingen4              |\n",
    "| Hoofdstuk5      |  onderwerp 5      |opmerkingen5              |\n",
    "| Hoofdstuk6 <br>- 6.1 <br>- [6.2](../klas3/HS6_2_K3.ipynb)  <br>- ...   |  onderwerp 6      |opmerkingen6              |\n",
    "```\n",
    "\n",
    "\n",
    "---"
   ]
  },
  {
   "cell_type": "markdown",
   "metadata": {},
   "source": []
  },
  {
   "cell_type": "markdown",
   "metadata": {},
   "source": [
    "---\n",
    "```{dropdown} VWO klas 3 tweede boek\n",
    "\n",
    "\n",
    "| Hoofdstuk        | Onderwerp  |Opmerkingen|\n",
    "|:------|:---------------------------|:---------------------------|\n",
    "| Hoofdstuk1      |  onderwerp 1      |opmerkingen1              |\n",
    "| Hoofdstuk2      |  onderwerp 2      |opmerkingen2              |\n",
    "| Hoofdstuk3      |  onderwerp 3      |opmerkingen3              |\n",
    "| Hoofdstuk4      |  onderwerp 4      |opmerkingen4              |\n",
    "| Hoofdstuk5      |  onderwerp 5      |opmerkingen5              |\n",
    "| Hoofdstuk6      |  onderwerp 6      |opmerkingen6              |\n",
    "```\n",
    "\n",
    "\n",
    "---"
   ]
  },
  {
   "cell_type": "markdown",
   "metadata": {},
   "source": []
  }
 ],
 "metadata": {
  "language_info": {
   "name": "python"
  }
 },
 "nbformat": 4,
 "nbformat_minor": 2
}
