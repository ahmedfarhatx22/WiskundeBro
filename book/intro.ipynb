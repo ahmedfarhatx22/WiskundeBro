{
 "cells": [
  {
   "cell_type": "markdown",
   "metadata": {},
   "source": [
    "# Welkom bij *WiskundeBro*! "
   ]
  },
  {
   "cell_type": "markdown",
   "metadata": {},
   "source": [
    "Mijn naam is **Ahmed Farahat** en ik ben de drijvende kracht achter WiskundeBro. Met een bachelor Civiele Techniek en een (bijna) afgeronde master Structural Engineering aan de TU Delft, ben ik goed thuis in de wereld van techniek en wiskunde. Daarnaast heb ik in februari 2025 mijn lerarenopleiding aan de VU afgerond, waardoor ik niet alleen de vakinhoud beheers, maar ook weet hoe ik een interactieve en betrokken leeromgeving kan creëren.\n",
    "\n",
    "Wat ik doe:\n",
    "\n",
    "- Wiskundelessen: Ik geef wiskundelessen aan leerlingen van klas 1, klas 2 en klas 3, waarbij ik mijn tweedegraadsbevoegdheid inzet om complexe concepten helder en toegankelijk te maken.\n",
    "- Bijles: Voor alle leerlingen bied ik persoonlijke bijles aan, zodat iedereen de kans krijgt om zijn of haar wiskundige vaardigheden te verbeteren.\n",
    "- Toets- en tentamenvoorbereiding: Ik help leerlingen met de voorbereiding op toetsen en tentamens, zodat zij vol vertrouwen hun examens tegemoet kunnen zien.\n",
    "- Verbredende workshops: Naast reguliere lessen organiseer ik workshops, zoals een creatieve bouwworkshop met hout, waarin leerlingen op een praktische manier leren en hun horizon verbreden.\n",
    "  \n",
    "Ik geloof dat onderwijs meer is dan alleen kennisoverdracht. Het gaat erom dat we samen bouwen aan een toekomst waarin iedere leerling zichzelf kan ontwikkelen en groeien. Mijn passie ligt in het creëren van een interactieve en inspirerende leeromgeving en in het opbouwen van een hechte band met mijn leerlingen."
   ]
  },
  {
   "cell_type": "code",
   "execution_count": null,
   "metadata": {
    "vscode": {
     "languageId": "plaintext"
    }
   },
   "outputs": [],
   "source": []
  },
  {
   "cell_type": "code",
   "execution_count": null,
   "metadata": {
    "vscode": {
     "languageId": "plaintext"
    }
   },
   "outputs": [],
   "source": []
  },
  {
   "cell_type": "markdown",
   "metadata": {},
   "source": []
  }
 ],
 "metadata": {
  "language_info": {
   "name": "python"
  }
 },
 "nbformat": 4,
 "nbformat_minor": 2
}
