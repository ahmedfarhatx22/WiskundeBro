{
 "cells": [
  {
   "cell_type": "markdown",
   "metadata": {},
   "source": [
    "# Kies je niveau en klas"
   ]
  },
  {
   "cell_type": "markdown",
   "metadata": {},
   "source": [
    "Hieronder vind je de beschikbare onderwijsniveaus. Kies jouw niveau en klas om naar het juiste studiemateriaal te navigeren. Benieuwd naar andere niveaus? Bekijk ze gerust!"
   ]
  },
  {
   "cell_type": "markdown",
   "metadata": {},
   "source": [
    "---\n",
    "```{dropdown} MAVO / VMBO Niveau\n",
    "\n",
    "\n",
    "| MAVO / VMBO Klassen        | Opmerkingen |\n",
    "|:------|:---------------------------|\n",
    "| Klas 1      | opmerkingen1 |\n",
    "| Klas 2      | opmerkingen2 |\n",
    "| Klas 3      | opmerkingen3 |\n",
    "| Klas 4      | opmerkingen4 |\n",
    "| Klas 5      | opmerkingen5 |\n",
    "| Klas 6      | opmerkingen6 |\n",
    "```\n",
    "\n",
    "\n",
    "---\n",
    "\n",
    "\n"
   ]
  },
  {
   "cell_type": "markdown",
   "metadata": {},
   "source": [
    "---\n",
    "```{dropdown} HAVO Niveau\n",
    "\n",
    "\n",
    "| HAVO Klassen        | Opmerkingen |\n",
    "|:------|:---------------------------|\n",
    "| Klas 1      | opmerkingen1 |\n",
    "| Klas 2      | opmerkingen2 |\n",
    "| Klas 3      | opmerkingen3 |\n",
    "| Klas 4      | opmerkingen4 |\n",
    "| Klas 5      | opmerkingen5 |\n",
    "| Klas 6      | opmerkingen6 |\n",
    "```\n",
    "---"
   ]
  },
  {
   "cell_type": "markdown",
   "metadata": {},
   "source": [
    "---\n",
    "```{dropdown} VWO Niveau\n",
    "\n",
    "\n",
    "| VWO Klassen        | Opmerkingen |\n",
    "|:------|:---------------------------|\n",
    "| Klas 1      | opmerkingen1 |\n",
    "| Klas 2      | opmerkingen2 |\n",
    "| [Klas 3](../VWO/klas3/klas3_intro.ipynb)     | opmerkingen3 |\n",
    "| Klas 4      | opmerkingen4 |\n",
    "| Klas 5      | opmerkingen5 |\n",
    "| Klas 6      | opmerkingen6 |\n",
    "```\n",
    "\n",
    "\n",
    "---"
   ]
  },
  {
   "cell_type": "markdown",
   "metadata": {},
   "source": []
  }
 ],
 "metadata": {
  "language_info": {
   "name": "python"
  }
 },
 "nbformat": 4,
 "nbformat_minor": 2
}
