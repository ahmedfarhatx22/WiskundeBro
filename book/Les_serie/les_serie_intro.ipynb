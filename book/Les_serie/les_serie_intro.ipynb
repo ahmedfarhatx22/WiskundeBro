{
 "cells": [
  {
   "cell_type": "markdown",
   "metadata": {},
   "source": [
    "# Welcome in WiskundeBro\n",
    "\n",
    "Hier is een korte introductie van mezelf en de dienst dat ik kan voor jullie betekenen. "
   ]
  },
  {
   "cell_type": "markdown",
   "metadata": {},
   "source": []
  }
 ],
 "metadata": {
  "language_info": {
   "name": "python"
  }
 },
 "nbformat": 4,
 "nbformat_minor": 2
}
